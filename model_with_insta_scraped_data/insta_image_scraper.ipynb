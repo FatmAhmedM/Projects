{
 "cells": [
  {
   "cell_type": "markdown",
   "id": "8a762a64",
   "metadata": {},
   "source": [
    "### This time I will use Jupyter Notebook inested of colab, so make sure all is setup\n",
    "**Thanks to https://selenium-python.readthedocs.io/waits.html made it easy for me to scrape.**\n",
    "\n",
    "**This scraping code for a classification project I didn't scrape much data but you can by scrolling down more!**"
   ]
  },
  {
   "cell_type": "code",
   "execution_count": null,
   "id": "5fe1e749",
   "metadata": {},
   "outputs": [],
   "source": [
    "from bs4 import BeautifulSoup\n",
    "from selenium import webdriver\n",
    "from selenium.webdriver.support.wait import WebDriverWait\n",
    "from selenium.webdriver.common.keys import Keys\n",
    "from selenium.webdriver.support import expected_conditions as EC\n",
    "from selenium.webdriver.common.by import By\n",
    "import time\n",
    "\n",
    "wd = webdriver.Edge()\n",
    "wd.get(\"https://www.instagram.com/accounts/login/\")\n",
    "email =  WebDriverWait(wd, 10).until(EC.element_to_be_clickable((By.XPATH,'//*[@id=\"loginForm\"]/div/div[1]/div/label/input' )))\n",
    "email.send_keys('#your email ')\n",
    "password =  WebDriverWait(wd, 10).until(EC.element_to_be_clickable((By.XPATH,'//*[@id=\"loginForm\"]/div/div[2]/div/label/input')))\n",
    "password.send_keys('#your password')\n",
    "WebDriverWait(wd, 10).until(EC.element_to_be_clickable((By.XPATH,'//*[@id=\"loginForm\"]/div/div[3]'))).click()\n",
    "keywords = ['cats','dogs']# these are instagram search words that is written in the searchbox, however they are not necessary the exact account names\n",
    "for keyword in keywords:\n",
    "    searchbox = WebDriverWait(wd, 15).until(EC.element_to_be_clickable((By.XPATH, \"//input[@placeholder='Search']\")))\n",
    "    searchbox.clear()\n",
    "    searchbox.send_keys(keyword) \n",
    "    time.sleep(5)\n",
    "    searchbox.send_keys(Keys.ENTER)#select the first result from the search\n",
    "    time.sleep(5)\n",
    "    searchbox.send_keys(Keys.ENTER)# enter the select result\n",
    "    time.sleep(10)\n",
    "    for _ in range(15):\n",
    "        wd.execute_script(\"window.scrollTo(0, 10000);\") # to scroll down\n",
    "        time.sleep(10)\n",
    "    time.sleep(5)\n",
    "    soup = BeautifulSoup(wd.page_source,'html.parser')\n",
    "    time.sleep(5)\n",
    "    imgs = soup.findAll(\"img\")\n",
    "    if keyword == 'cats':\n",
    "        cat_list =[] #links of cat images\n",
    "        for img in imgs:\n",
    "            if img.has_attr('src'):\n",
    "                cat_list.append(img['src'])\n",
    "    else:\n",
    "        dog_list = [] #links of cat images\n",
    "        for img in imgs:\n",
    "            if img.has_attr('src'):\n",
    "                dog_list.append(img['src'])"
   ]
  },
  {
   "cell_type": "code",
   "execution_count": 3,
   "id": "c460e7e5",
   "metadata": {},
   "outputs": [
    {
     "data": {
      "text/plain": [
       "49"
      ]
     },
     "execution_count": 3,
     "metadata": {},
     "output_type": "execute_result"
    }
   ],
   "source": [
    "len(cat_list)"
   ]
  },
  {
   "cell_type": "code",
   "execution_count": 4,
   "id": "4e997754",
   "metadata": {},
   "outputs": [
    {
     "data": {
      "text/plain": [
       "48"
      ]
     },
     "execution_count": 4,
     "metadata": {},
     "output_type": "execute_result"
    }
   ],
   "source": [
    "len(dog_list)"
   ]
  },
  {
   "cell_type": "markdown",
   "id": "e6d9d680",
   "metadata": {},
   "source": [
    "**images are not enough for classification, however I will take them consider that as a demo try!**\n",
    "### **Now download the images and save them to their classes folders**"
   ]
  },
  {
   "cell_type": "code",
   "execution_count": 12,
   "id": "50beac37",
   "metadata": {},
   "outputs": [
    {
     "name": "stdout",
     "output_type": "stream",
     "text": [
      "100% [..............................................................................] 28350 / 28350"
     ]
    }
   ],
   "source": [
    "import os\n",
    "import wget\n",
    "counter_cat = 0\n",
    "counter_dog =0\n",
    "for name in keywords:\n",
    "    path = os.getcwd() #get the current path\n",
    "    dir_path = os.path.join(path, name)\n",
    "    class_dir = os.mkdir(dir_path) #make the class dir\n",
    "    if name == 'cats':\n",
    "        for img in cat_list:\n",
    "            save_as = os.path.join(dir_path, name+str(counter_cat) +'.jpg')\n",
    "            wget.download(img, save_as)\n",
    "            counter_cat +=1\n",
    "    else:\n",
    "        for img in dog_list:\n",
    "            save_as = os.path.join(dir_path, name+ str(counter_dog) +'.jpg')\n",
    "            wget.download(img, save_as)\n",
    "            counter_dog +=1\n",
    "    "
   ]
  },
  {
   "cell_type": "markdown",
   "id": "448d70c1",
   "metadata": {},
   "source": [
    "**Show the results**\n"
   ]
  },
  {
   "cell_type": "code",
   "execution_count": 15,
   "id": "576c1227",
   "metadata": {
    "scrolled": true
   },
   "outputs": [
    {
     "name": "stdout",
     "output_type": "stream",
     "text": [
      "cats :49\n",
      "['cats0.jpg', 'cats1.jpg']\n",
      "dogs :48\n",
      "['dogs0.jpg', 'dogs1.jpg']\n"
     ]
    }
   ],
   "source": [
    "for class_name in keywords:\n",
    "    path = os.path.join(os.getcwd(), class_name)\n",
    "    print(class_name+ ' :' + str(len(os.listdir(path))))\n",
    "    print(os.listdir(path)[:2])      \n"
   ]
  },
  {
   "cell_type": "markdown",
   "id": "c5ed68f8",
   "metadata": {},
   "source": [
    "**Alhmdulillah seems alright, all moved correctly**\n",
    "\n",
    "**However the I will make a**\n",
    "\n",
    ">### **Data cleaning maniually (remove unrelated images and make a balanced data)** "
   ]
  },
  {
   "cell_type": "code",
   "execution_count": 16,
   "id": "06147662",
   "metadata": {},
   "outputs": [
    {
     "name": "stdout",
     "output_type": "stream",
     "text": [
      "cats :40\n",
      "dogs :40\n"
     ]
    }
   ],
   "source": [
    "for class_name in keywords:\n",
    "    path = os.path.join(os.getcwd(), class_name)\n",
    "    print(class_name+ ' :' + str(len(os.listdir(path))))\n",
    "      \n"
   ]
  },
  {
   "cell_type": "markdown",
   "id": "f60a2b5c",
   "metadata": {},
   "source": [
    "### **Move classes in one directory and zip the file**"
   ]
  },
  {
   "cell_type": "code",
   "execution_count": 5,
   "id": "1be58e6c",
   "metadata": {},
   "outputs": [],
   "source": [
    "import shutil,os\n",
    "base = os.getcwd()\n",
    "dir_name = 'demo-cats_dogs'\n",
    "class_dir =os.mkdir(dir_name)\n",
    "for name in keywords:\n",
    "    shutil.move(os.path.join(base,name),os.path.join(base,dir_name) )\n",
    "    "
   ]
  },
  {
   "cell_type": "code",
   "execution_count": 7,
   "id": "ff3ae719",
   "metadata": {},
   "outputs": [
    {
     "data": {
      "text/plain": [
       "['cats', 'dogs']"
      ]
     },
     "execution_count": 7,
     "metadata": {},
     "output_type": "execute_result"
    }
   ],
   "source": [
    "#test\n",
    "os.listdir(base+ '/'+ dir_name)"
   ]
  },
  {
   "cell_type": "code",
   "execution_count": 8,
   "id": "4088d3a7",
   "metadata": {},
   "outputs": [
    {
     "data": {
      "text/plain": [
       "'D:\\\\demo-cats_dogs.zip'"
      ]
     },
     "execution_count": 8,
     "metadata": {},
     "output_type": "execute_result"
    }
   ],
   "source": [
    "shutil.make_archive(dir_name, 'zip', dir_name)"
   ]
  },
  {
   "cell_type": "markdown",
   "id": "90495fca",
   "metadata": {},
   "source": [
    "### **The following code for scraping data without login, However it will be so small as you can see due to Instagram limitation.**"
   ]
  },
  {
   "cell_type": "code",
   "execution_count": 11,
   "id": "eb852b44",
   "metadata": {},
   "outputs": [
    {
     "data": {
      "text/plain": [
       "10"
      ]
     },
     "execution_count": 11,
     "metadata": {},
     "output_type": "execute_result"
    }
   ],
   "source": [
    "wd = webdriver.Edge()\n",
    "wd.get(\"https://www.instagram.com/explore/tags/dog/\")\n",
    "time.sleep(5)\n",
    "wd.execute_script(\"window.scrollTo(0, 10000);\")\n",
    "soup = BeautifulSoup(wd.page_source,'html.parser')\n",
    "time.sleep(5)\n",
    "imgs = soup.findAll(\"img\")\n",
    "\n",
    "alll = []\n",
    "for img in imgs:\n",
    "    if img.has_attr('src'):\n",
    "        alll.append(img['src'])\n",
    "len(alll)        "
   ]
  }
 ],
 "metadata": {
  "kernelspec": {
   "display_name": "Python 3 (ipykernel)",
   "language": "python",
   "name": "python3"
  },
  "language_info": {
   "codemirror_mode": {
    "name": "ipython",
    "version": 3
   },
   "file_extension": ".py",
   "mimetype": "text/x-python",
   "name": "python",
   "nbconvert_exporter": "python",
   "pygments_lexer": "ipython3",
   "version": "3.9.7"
  }
 },
 "nbformat": 4,
 "nbformat_minor": 5
}
