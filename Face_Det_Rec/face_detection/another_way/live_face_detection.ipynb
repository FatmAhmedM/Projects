{
 "cells": [
  {
   "cell_type": "code",
   "execution_count": 3,
   "id": "230b1942",
   "metadata": {},
   "outputs": [],
   "source": [
    "import numpy as np\n",
    "import pandas as pd \n",
    "import matplotlib.pyplot as plt\n",
    "import cv2\n",
    "model = cv2.dnn.readNetFromCaffe('deploy.prototxt.txt','res10_300x300_ssd_iter_140000.caffemodel')\n",
    "cap = cv2.VideoCapture(0)\n",
    "while (True):\n",
    "    success, img = cap.read()\n",
    "    base_img = img.copy()\n",
    "    original_size = img.shape\n",
    "    tartget_size = (300,300)\n",
    "    img = cv2.resize(img,tartget_size)\n",
    "    aspect_ratio_y = original_size[0] / tartget_size [0] #help us in to apply the work on base_img\n",
    "    aspect_ratio_x = original_size[1] / tartget_size[1]\n",
    "    imgblob= cv2.dnn.blobFromImage(img) #prepare img and returen 4-dim (1,3,300,300)\n",
    "    model.setInput(imgblob)\n",
    "    detections = model.forward()\n",
    "    detections_df = pd.DataFrame(detections[0][0], columns = [\"img_id\", \"label\", \"confidence\", \"left\", \"top\", \"right\", \"bottom\"])\n",
    "    detections_df = detections_df.query('confidence > 0.9 and label == 1.0') #label of 1 means face\\ 0:means background\n",
    "    for i,instance in detections_df.iterrows():\n",
    "        confidence = str(round(detections_df['confidence'][i]*100)) + \"%\"\n",
    "        right = int(instance['right'] * 300) # multiply by 300 to see the results on the base_img remeber because we resize the img\n",
    "        left = int(instance['left'] * 300)\n",
    "        top = int(instance['top'] * 300)\n",
    "        bottom = int(instance ['bottom'] * 300)\n",
    "        detect_face = base_img[int(top *aspect_ratio_y): int(bottom*aspect_ratio_y), int(left*aspect_ratio_x): int(right*aspect_ratio_x)]\n",
    "        if detect_face.shape[0] > 0 and detect_face.shape[1] > 0:\n",
    "            cv2.putText(base_img, confidence , (int(left*aspect_ratio_x), int(top*aspect_ratio_y)), cv2.FONT_HERSHEY_SIMPLEX, 0.5, (0, 255, 0), 1)\n",
    "            cv2.rectangle(base_img, (int(left*aspect_ratio_x), int(top*aspect_ratio_y)), (int(right*aspect_ratio_x), int(bottom*aspect_ratio_y)), (255, 0, 0), 4) #draw rectangle to main image\n",
    "    cv2.imshow('frame', base_img) #show window of your camera\n",
    "    if cv2.waitKey(1) & 0xFF == ord('q'): #press q To exit\n",
    "        break\n",
    "    \n",
    "    \n",
    "cap.release()    \n",
    "cv2.destroyAllWindows()\n"
   ]
  },
  {
   "cell_type": "code",
   "execution_count": null,
   "id": "a3a68b40",
   "metadata": {},
   "outputs": [],
   "source": []
  }
 ],
 "metadata": {
  "kernelspec": {
   "display_name": "Python 3",
   "language": "python",
   "name": "python3"
  },
  "language_info": {
   "codemirror_mode": {
    "name": "ipython",
    "version": 3
   },
   "file_extension": ".py",
   "mimetype": "text/x-python",
   "name": "python",
   "nbconvert_exporter": "python",
   "pygments_lexer": "ipython3",
   "version": "3.6.13"
  }
 },
 "nbformat": 4,
 "nbformat_minor": 5
}
