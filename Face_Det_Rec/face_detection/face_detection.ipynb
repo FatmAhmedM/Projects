{
 "cells": [
  {
   "cell_type": "markdown",
   "id": "4c629aff",
   "metadata": {},
   "source": [
    "# Real time face detection project\n"
   ]
  },
  {
   "cell_type": "markdown",
   "id": "9625a068",
   "metadata": {},
   "source": [
    "first I will use my phone camera for detection and to do that:\n",
    "1. download IP webcamera app form the phone store\n",
    "2. select start server option, you will get IP as: http:// 12.242....\n",
    "3. add ( /video ) to the IP adress  \n",
    "\n",
    "\n",
    "for detection we must use haarcascade files which are found here: https://github.com/opencv/opencv/tree/master/data/haarcascades"
   ]
  },
  {
   "cell_type": "code",
   "execution_count": null,
   "id": "5c5aa837",
   "metadata": {},
   "outputs": [],
   "source": [
    "\n",
    "import cv2\n",
    "\n",
    "phone_cam_IP = 'your_IP'+'/video' #as explained above\n",
    "\n",
    "vid = cv2.VideoCapture(phone_cam_IP)\n",
    "#use haarcascade file path\n",
    "face_cascade = cv2.CascadeClassifier('haarcascade_frontalface_default.xml');\n",
    "\n",
    "\n",
    "\n",
    "while True:\n",
    "    check, frame = vid.read();\n",
    "    faces = face_cascade.detectMultiScale(frame,\n",
    "                                          scaleFactor=1.1, minNeighbors=5);\n",
    "    for x,y,w,h in faces:\n",
    "        frame = cv2.rectangle(frame, (x,y), (x+w,y+h), (0,255,0), 3);\n",
    "\n",
    "    cv2.imshow('Welcome to Face Detector', frame);\n",
    "\n",
    "    key = cv2.waitKey(1);\n",
    "\n",
    "    if key == ord('q'):\n",
    "        break;\n",
    "\n",
    "video.release();\n",
    "cv2.destroyAllWindows();\n",
    "\n"
   ]
  }
 ],
 "metadata": {
  "kernelspec": {
   "display_name": "Python 3 (ipykernel)",
   "language": "python",
   "name": "python3"
  },
  "language_info": {
   "codemirror_mode": {
    "name": "ipython",
    "version": 3
   },
   "file_extension": ".py",
   "mimetype": "text/x-python",
   "name": "python",
   "nbconvert_exporter": "python",
   "pygments_lexer": "ipython3",
   "version": "3.9.7"
  }
 },
 "nbformat": 4,
 "nbformat_minor": 5
}
