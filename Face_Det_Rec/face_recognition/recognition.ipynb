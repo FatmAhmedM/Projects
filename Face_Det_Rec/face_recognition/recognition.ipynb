{
 "cells": [
  {
   "cell_type": "markdown",
   "id": "875e88c2",
   "metadata": {},
   "source": [
    "# Realtime face recogintion project"
   ]
  },
  {
   "cell_type": "markdown",
   "id": "06eec45b",
   "metadata": {},
   "source": [
    "**Data prep**\n",
    "\n",
    "when collecting the imgs for training a spcial name is given including the img's lable to make it easy for data training, for example ... the img --> malcomx.1.2nd.png --- malcome x to know who in the imge , 1 the index or label for the pic, 2nd is for diff the pics \n",
    "\n",
    "**capture**\n",
    "\n",
    "you can use IP Webcam mobile app to use your phone camera to captue the pic which make it more flexible experience"
   ]
  },
  {
   "cell_type": "code",
   "execution_count": null,
   "id": "99211cd4",
   "metadata": {
    "code_folding": []
   },
   "outputs": [],
   "source": [
    "import cv2\n",
    "import numpy as np\n",
    "from PIL import Image\n",
    "import os\n",
    "\n",
    "recognizer = cv2.face.LBPHFaceRecognizer_create()\n",
    "detector = cv2.CascadeClassifier(\"haarcascade_frontalface_default.xml\")\n",
    "path = 'imData'\n",
    "\n",
    "samples= []\n",
    "ids = []\n",
    "imagePaths = [] \n",
    "\n",
    "#to loop every img path\n",
    "for each in os.listdir(path):\n",
    "    imagePaths.append(os.path.join(path,each))                           \n",
    "        \n",
    "                      \n",
    "                              \n",
    "for no, value in enumerate(imagePaths):\n",
    "                      \n",
    "    PIL_img = Image.open(value).convert('L') # convert it to grayscale\n",
    "    img_numpy = np.array(PIL_img,'uint8')\n",
    "    #to get the lable of the imgs\n",
    "    id = int(os.path.split(value)[-1].split(\".\")[1])\n",
    "    faces = detector.detectMultiScale(img_numpy)\n",
    "\n",
    "    for (x,y,w,h) in faces:\n",
    "        samples.append(img_numpy[y:y+h,x:x+w])\n",
    "        ids.append(id)\n",
    "\n",
    "\n",
    "\n",
    "\n",
    "#train the model   \n",
    "recognizer.train(samples, np.array(ids))\n",
    "# Save the model \n",
    "recognizer.write('model.yml')\n"
   ]
  },
  {
   "cell_type": "code",
   "execution_count": 6,
   "id": "25828ce1",
   "metadata": {},
   "outputs": [],
   "source": [
    "#read model.yml file\n",
    "recognizer.read('model.yml')\n",
    "\n",
    "faceCascade = cv2.CascadeClassifier(\"haarcascade_frontalface_default.xml\");\n",
    "#as explained before notmalcomx takes 0 id and 1 for malcomx\n",
    "names = ['Not MalcomX','MalcomX'] \n",
    "\n",
    "\n",
    "cam = cv2.VideoCapture(0)\n",
    "\n",
    "while True:\n",
    "\n",
    "    ret, frame =cam.read()\n",
    "    gray = cv2.cvtColor(frame, cv2.COLOR_BGR2GRAY)\n",
    "    faces = faceCascade.detectMultiScale( \n",
    "        gray,\n",
    "        scaleFactor = 1.2,\n",
    "        minNeighbors = 5,\n",
    "        minSize = (60, 60),\n",
    "       )\n",
    "\n",
    "    for(x,y,w,h) in faces:\n",
    "\n",
    "        cv2.rectangle(frame, (x,y), (x+w,y+h), (0,255,0), 2)\n",
    "\n",
    "        id, confidence = recognizer.predict(gray[y:y+h,x:x+w])\n",
    "\n",
    "        # predict give us the lable which will be the index of the name list and the confidence which we can say the accuracy\n",
    "        if (confidence < 100):\n",
    "            id = names[id]\n",
    "            confidence = f\"{100 - confidence}%\"\n",
    "        else:\n",
    "            id = \"unknown\"\n",
    "            confidence = f\"{100 - confidence}%\"\n",
    "            \n",
    "        font = cv2.FONT_HERSHEY_SIMPLEX\n",
    "        cv2.putText(frame, str(id), (x+5,y-5), font, 1, (255,255,255), 2)\n",
    "        cv2.putText(frame, str(confidence), (x+5,y+h-5), font, 1, (255,255,0), 1)  \n",
    "    cv2.imshow('MalcomX recognizer',frame) \n",
    "    k = cv2.waitKey(10) & 0xff # Press 'ESC' for exiting video\n",
    "    if k == 27:\n",
    "        break\n",
    "    \n",
    "cam.release()\n",
    "cv2.destroyAllWindows()"
   ]
  },
  {
   "cell_type": "markdown",
   "id": "bd995f54",
   "metadata": {},
   "source": [
    "spacial thanks to: \n",
    "https://towardsdatascience.com/real-time-face-recognition-an-end-to-end-project-b738bb0f7348\n",
    "\n",
    "https://www.superdatascience.com/blogs/opencv-face-recognition\n",
    "\n",
    "https://www.youtube.com/watch?v=iMhLrSvnkwY&t=295s\n",
    "\n",
    "for their useful tutorials"
   ]
  },
  {
   "cell_type": "markdown",
   "id": "81332c80",
   "metadata": {},
   "source": [
    "# About the data topic\n",
    "\n",
    "I inspired by MalcomْْX long journey and his qoutes, the most ones I like:\n",
    "\n",
    "\"**When I was in Makkah I noticed that theirx they had no color problem. That they had people there whose eyes were blue and people there whose eyes were black, people whose skin was white, people whose skin was black, people whose hair was blond, people whose hair was black, from the whitest white person to the blackest black person.**\"\n",
    "\n",
    "and \n",
    "\n",
    "\"**A MAN WHO STANDS FOR NOTHING WILL FALL FOR ANYTHING.**\"\n"
   ]
  },
  {
   "cell_type": "code",
   "execution_count": null,
   "id": "e492ada6",
   "metadata": {},
   "outputs": [],
   "source": []
  }
 ],
 "metadata": {
  "kernelspec": {
   "display_name": "Python 3",
   "language": "python",
   "name": "python3"
  },
  "language_info": {
   "codemirror_mode": {
    "name": "ipython",
    "version": 3
   },
   "file_extension": ".py",
   "mimetype": "text/x-python",
   "name": "python",
   "nbconvert_exporter": "python",
   "pygments_lexer": "ipython3",
   "version": "3.6.13"
  }
 },
 "nbformat": 4,
 "nbformat_minor": 5
}
