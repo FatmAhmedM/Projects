{
 "cells": [
  {
   "cell_type": "code",
   "execution_count": 16,
   "id": "5d559348",
   "metadata": {},
   "outputs": [
    {
     "data": {
      "text/plain": [
       "['null',\n",
       " 'person',\n",
       " 'bicycle',\n",
       " 'car',\n",
       " 'motorcycle',\n",
       " 'airplane',\n",
       " 'bus',\n",
       " 'train',\n",
       " 'truck',\n",
       " 'boat']"
      ]
     },
     "execution_count": 16,
     "metadata": {},
     "output_type": "execute_result"
    }
   ],
   "source": [
    "#prepare labels\n",
    "file = open('mscoco_label_map.pbtxt.txt')\n",
    "labels = [\"null\"] #because the first label with an id 1 in the label_map.pbtxt\n",
    "txt =file.read()\n",
    "line = txt.split('\\nitem')\n",
    "ind= [i.split('display_name: \"') for i in line]\n",
    "for i in range(len(ind)):\n",
    "    labels.append(ind[i][1].replace('\"\\n}',''))\n",
    "labels[:10]"
   ]
  },
  {
   "cell_type": "code",
   "execution_count": 27,
   "id": "84397c19",
   "metadata": {},
   "outputs": [],
   "source": [
    "import numpy as np\n",
    "import pandas as pd \n",
    "import matplotlib.pyplot as plt\n",
    "import cv2\n",
    "model_path = 'ssd_mobilenet_v2_coco_2018_03_29/frozen_inference_graph.pb'\n",
    "config_file = 'ssd_mobilenet_v2_coco_2018_03_29.pbtxt.txt'\n",
    "model = cv2.dnn.readNetFromTensorflow(model_path,config_file)\n",
    "filename = 'outpy.avi'\n",
    "cap =cv2.VideoCapture(filename)\n",
    "frame_width = int(cap.get(3))\n",
    "frame_height = int(cap.get(4))\n",
    "file_size = (frame_width,frame_height)\n",
    "# We want to save the output to a video file\n",
    "output_filename = 'detected_objects.avi'\n",
    "output_frames_per_second = 20\n",
    "\n",
    "#Create a VideoWriter object so we can save the video output\n",
    "writer = cv2.VideoWriter_fourcc('M','J','P','G')\n",
    "result = cv2.VideoWriter(output_filename,writer, output_frames_per_second,file_size ) \n",
    "while True:\n",
    "    success, img = cap.read()\n",
    "    if success:\n",
    "        base_img = img.copy()\n",
    "        original_size = img.shape\n",
    "        tartget_size = (300,300)\n",
    "        img = cv2.resize(img,tartget_size)\n",
    "        aspect_ratio_y = original_size[0] / tartget_size [0] #help us in to apply the work on base_img\n",
    "        aspect_ratio_x = original_size[1] / tartget_size[1]\n",
    "        imgblob= cv2.dnn.blobFromImage(img) #prepare img and returen 4-dim (1,3,300,300)\n",
    "        model.setInput(imgblob)\n",
    "        detections = model.forward()\n",
    "        detections_df = pd.DataFrame(detections[0][0], columns = [\"img_id\", \"label\", \"confidence\", \"left\", \"top\", \"right\", \"bottom\"])\n",
    "        detections_df = detections_df.query('confidence > 0.9') #label of 1 means face\\ 0:means background\n",
    "        for i,instance in detections_df.iterrows():\n",
    "            text = labels[int(detections_df['label'][i])] + str(round(detections_df['confidence'][i]*100)) + \"%\"\n",
    "            right = int(instance['right'] * 300) \n",
    "            left = int(instance['left'] * 300)\n",
    "            top = int(instance['top'] * 300)\n",
    "            bottom = int(instance ['bottom'] * 300)\n",
    "            detect_face = base_img[int(top *aspect_ratio_y): int(bottom*aspect_ratio_y), int(left*aspect_ratio_x): int(right*aspect_ratio_x)]\n",
    "            if detect_face.shape[0] > 0 and detect_face.shape[1] > 0:\n",
    "                cv2.putText(base_img, text , (int(left*aspect_ratio_x), int(top*aspect_ratio_y)), cv2.FONT_HERSHEY_SIMPLEX, 1, (0, 255, 200), 2)\n",
    "                cv2.rectangle(base_img, (int(left*aspect_ratio_x), int(top*aspect_ratio_y)), (int(right*aspect_ratio_x), int(bottom*aspect_ratio_y)), (255, 0, 0), 4) #draw rectangle to main ima\n",
    "        \n",
    "        result.write(base_img)\n",
    "    else:\n",
    "        break\n",
    "\n",
    "        \n",
    "    \n",
    "    \n",
    "cap.release()    \n",
    "cv2.destroyAllWindows()\n"
   ]
  },
  {
   "cell_type": "code",
   "execution_count": null,
   "id": "b4b7091f",
   "metadata": {},
   "outputs": [],
   "source": []
  }
 ],
 "metadata": {
  "kernelspec": {
   "display_name": "Python 3 (ipykernel)",
   "language": "python",
   "name": "python3"
  },
  "language_info": {
   "codemirror_mode": {
    "name": "ipython",
    "version": 3
   },
   "file_extension": ".py",
   "mimetype": "text/x-python",
   "name": "python",
   "nbconvert_exporter": "python",
   "pygments_lexer": "ipython3",
   "version": "3.9.7"
  }
 },
 "nbformat": 4,
 "nbformat_minor": 5
}
